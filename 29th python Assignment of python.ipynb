{
 "cells": [
  {
   "cell_type": "code",
   "execution_count": 14,
   "id": "8fe95c08-21a0-4694-8f3e-5667e3e09951",
   "metadata": {},
   "outputs": [
    {
     "ename": "SyntaxError",
     "evalue": "invalid character '“' (U+201C) (1803827099.py, line 24)",
     "output_type": "error",
     "traceback": [
      "\u001b[0;36m  Cell \u001b[0;32mIn[14], line 24\u001b[0;36m\u001b[0m\n\u001b[0;31m    Ans- Developed in 2008, pip (an acronym of “pip Install Packages”) is today the standard tool for installing Python packages and their dependencies in a secure manner. Most recent distributions of Python come with pip preinstalled. Python 2.7. 9 and Python 3.4 and later versions include pip by default.\u001b[0m\n\u001b[0m                                               ^\u001b[0m\n\u001b[0;31mSyntaxError\u001b[0m\u001b[0;31m:\u001b[0m invalid character '“' (U+201C)\n"
     ]
    }
   ],
   "source": [
    "\"who developed python programming language ?\"\n",
    "Ans \" When he began implementing Python, Guido van Rossum was also reading the published scripts from “Monty Python's Flying Circus”, a BBC comedy series from the 1970s. Van Rossum thought he needed a name that was short, unique, and slightly mysterious, so he decided to call the language Python.\"\n",
    "\"which type of programming does python support?\"\n",
    "Ans \"Python is a multi-paradigm programming language. Object-oriented programming and structured programming are fully supported, and many of their features support functional programming and aspect-oriented programming (including metaprogramming and metaobjects).\"\n",
    "\"is python case sensitive when dealing with identifier?\"\n",
    "Ans \"Yes, Python is a case−sensitive programming language. This means that it considers uppercase and lowercase letters differently.26-Dec-2022\"\n",
    "\"what is the correct extension of the python file?\"\n",
    "Ans Python is a widely used programming or coding language used for different purposes. The extensions for Python files are - . py, . pyi\n",
    "Ques :- is python code compiled or interpreted?\n",
    "Ans:- Python is an interpreted language, which means the source code of a Python program is converted into bytecode that is then executed by the Python virtual machine. Python is different from major compiled languages, such as C and C + +, as Python code is not required to be built and linked like code for these language.\n",
    "Ques:- name a few blocks of code used to define in python language?\n",
    "Ans:-  The following are blocks: a module, a function body, and a class definition. Each command typed interactively is a block. A script file (a file given as standard input to the interpreter or specified as a command line argument to the interpreter) is a code block.\n",
    "Ques:- state a character used to give single-line comments in python?\n",
    "Ans;- We can write a single-line comment by adding a single.\n",
    "Ques;- mention functions which can help us to find the version of python that we are currently working on?\n",
    "Ans:- How to check what version of Python?\n",
    "\n",
    "    Using sys. version method.\n",
    "    Using python_version() function.\n",
    "    Using Python -V command.\n",
    "Ques:- python supports the creation of anonymous functions at runtime using a construct called?\n",
    "Ans:- Python supports to make anonymous functions which are not bound to a name(@ runtime). It uses a construct called \"lambda\" .\n",
    "Ques:- what does pip stand for python?\n",
    "Ans- Developed in 2008, pip (an acronym of “pip Install Packages”) is today the standard tool for installing Python packages and their dependencies in a secure manner. Most recent distributions of Python come with pip preinstalled. Python 2.7. 9 and Python 3.4 and later versions include pip by default.\n",
    "Ques:- mention a few built-in functions in python?\n",
    "Ans:- bin()\tReturns the binary version of a number\n",
    "    bool()\tReturns the boolean value of the specified object\n",
    "    bytearray()\tReturns an array of bytes\n",
    "    bytes()\tReturns a bytes object\n",
    "Ques:- what is the maximum possible length of an identifier in python?\n",
    "Ans:- Answer: An identifier can have a maximum length of 79 characters in Python. Python is one of the most popular programming languages.\n",
    "Ques;- What are benefits of using python?\n",
    "Ans:- Top Reasons to Learn Python\n",
    "\n",
    "    Data science.\n",
    "    Scientific and mathematical computing.\n",
    "    Web development.\n",
    "    Finance and trading.\n",
    "    System automation and administration.\n",
    "    Computer graphics.\n",
    "    Basic game development.\n",
    "    Security and penetration testing.\n",
    "Ques:- how is memory managed in python?\n",
    "Ans:- Memory management in Python involves a private heap containing all Python objects and data structures. The management of this private heap is ensured internally by the Python memory manager.\n",
    "Ques:- how to install python on windows and set path variable?\n",
    "Ans:- The complete path of python.exe can be added by:\n",
    "\n",
    "    Right-clicking This PC and going to Properties.\n",
    "    Clicking on the Advanced system settings in the menu on the left.\n",
    "    Clicking on the Environment Variables button o​n the bottom right.\n",
    "    In the System variables section, selecting the Path variable and clicking on Edit.\n",
    "Ques:- Is identation required in Python?\n",
    "Ans:- Indentation refers to the spaces at the beginning of a code line. Where in other programming languages the indentation in code is for readability only, the indentation in Python is very important. Python uses indentation to indicate a block of code.\""
   ]
  },
  {
   "cell_type": "code",
   "execution_count": null,
   "id": "8c28ef72-ed8c-4f84-a1c3-e886f696091e",
   "metadata": {},
   "outputs": [],
   "source": []
  }
 ],
 "metadata": {
  "kernelspec": {
   "display_name": "Python 3 (ipykernel)",
   "language": "python",
   "name": "python3"
  },
  "language_info": {
   "codemirror_mode": {
    "name": "ipython",
    "version": 3
   },
   "file_extension": ".py",
   "mimetype": "text/x-python",
   "name": "python",
   "nbconvert_exporter": "python",
   "pygments_lexer": "ipython3",
   "version": "3.10.8"
  }
 },
 "nbformat": 4,
 "nbformat_minor": 5
}
